{
 "cells": [
  {
   "cell_type": "code",
   "execution_count": 1,
   "id": "3ff08626",
   "metadata": {},
   "outputs": [
    {
     "data": {
      "text/html": [
       "<div>\n",
       "<style scoped>\n",
       "    .dataframe tbody tr th:only-of-type {\n",
       "        vertical-align: middle;\n",
       "    }\n",
       "\n",
       "    .dataframe tbody tr th {\n",
       "        vertical-align: top;\n",
       "    }\n",
       "\n",
       "    .dataframe thead th {\n",
       "        text-align: right;\n",
       "    }\n",
       "</style>\n",
       "<table border=\"1\" class=\"dataframe\">\n",
       "  <thead>\n",
       "    <tr style=\"text-align: right;\">\n",
       "      <th></th>\n",
       "      <th>Horodateur</th>\n",
       "      <th>Prénom</th>\n",
       "      <th>First_Choice</th>\n",
       "      <th>Reason1</th>\n",
       "      <th>Second_Choice</th>\n",
       "      <th>Reason2</th>\n",
       "      <th>Third_Choice</th>\n",
       "      <th>Teammates</th>\n",
       "      <th>Github</th>\n",
       "    </tr>\n",
       "  </thead>\n",
       "  <tbody>\n",
       "    <tr>\n",
       "      <th>0</th>\n",
       "      <td>02/01/2023 14:53:21</td>\n",
       "      <td>0</td>\n",
       "      <td>3</td>\n",
       "      <td>4</td>\n",
       "      <td>2</td>\n",
       "      <td>0</td>\n",
       "      <td>5</td>\n",
       "      <td>1</td>\n",
       "      <td>0</td>\n",
       "    </tr>\n",
       "    <tr>\n",
       "      <th>1</th>\n",
       "      <td>03/01/2023 09:57:23</td>\n",
       "      <td>1</td>\n",
       "      <td>3</td>\n",
       "      <td>4</td>\n",
       "      <td>4</td>\n",
       "      <td>4</td>\n",
       "      <td>1</td>\n",
       "      <td>NaN</td>\n",
       "      <td>0</td>\n",
       "    </tr>\n",
       "    <tr>\n",
       "      <th>2</th>\n",
       "      <td>03/01/2023 11:11:46</td>\n",
       "      <td>2</td>\n",
       "      <td>2</td>\n",
       "      <td>2</td>\n",
       "      <td>1</td>\n",
       "      <td>2</td>\n",
       "      <td>5</td>\n",
       "      <td>NaN</td>\n",
       "      <td>0</td>\n",
       "    </tr>\n",
       "    <tr>\n",
       "      <th>3</th>\n",
       "      <td>03/01/2023 11:53:12</td>\n",
       "      <td>3</td>\n",
       "      <td>3</td>\n",
       "      <td>4</td>\n",
       "      <td>4</td>\n",
       "      <td>2</td>\n",
       "      <td>5</td>\n",
       "      <td>NaN</td>\n",
       "      <td>3</td>\n",
       "    </tr>\n",
       "    <tr>\n",
       "      <th>4</th>\n",
       "      <td>04/01/2023 11:24:51</td>\n",
       "      <td>4</td>\n",
       "      <td>3</td>\n",
       "      <td>4</td>\n",
       "      <td>5</td>\n",
       "      <td>3</td>\n",
       "      <td>4</td>\n",
       "      <td>NaN</td>\n",
       "      <td>1</td>\n",
       "    </tr>\n",
       "  </tbody>\n",
       "</table>\n",
       "</div>"
      ],
      "text/plain": [
       "            Horodateur  Prénom  First_Choice  Reason1  Second_Choice  Reason2  \\\n",
       "0  02/01/2023 14:53:21       0             3        4              2        0   \n",
       "1  03/01/2023 09:57:23       1             3        4              4        4   \n",
       "2  03/01/2023 11:11:46       2             2        2              1        2   \n",
       "3  03/01/2023 11:53:12       3             3        4              4        2   \n",
       "4  04/01/2023 11:24:51       4             3        4              5        3   \n",
       "\n",
       "   Third_Choice Teammates  Github  \n",
       "0             5         1       0  \n",
       "1             1       NaN       0  \n",
       "2             5       NaN       0  \n",
       "3             5       NaN       3  \n",
       "4             4       NaN       1  "
      ]
     },
     "execution_count": 1,
     "metadata": {},
     "output_type": "execute_result"
    }
   ],
   "source": [
    "import pandas as pd\n",
    "import numpy as np\n",
    "from collections import Counter\n",
    "from copy import copy\n",
    "df = pd.read_csv(\"candidates_choice_vows.csv\",index_col=0)\n",
    "df.head()"
   ]
  },
  {
   "cell_type": "code",
   "execution_count": 22,
   "id": "5f3af7b1",
   "metadata": {},
   "outputs": [
    {
     "data": {
      "text/html": [
       "<div>\n",
       "<style scoped>\n",
       "    .dataframe tbody tr th:only-of-type {\n",
       "        vertical-align: middle;\n",
       "    }\n",
       "\n",
       "    .dataframe tbody tr th {\n",
       "        vertical-align: top;\n",
       "    }\n",
       "\n",
       "    .dataframe thead th {\n",
       "        text-align: right;\n",
       "    }\n",
       "</style>\n",
       "<table border=\"1\" class=\"dataframe\">\n",
       "  <thead>\n",
       "    <tr style=\"text-align: right;\">\n",
       "      <th></th>\n",
       "      <th>Horodateur</th>\n",
       "      <th>Prénom</th>\n",
       "      <th>First_Choice</th>\n",
       "      <th>Reason1</th>\n",
       "      <th>Second_Choice</th>\n",
       "      <th>Reason2</th>\n",
       "      <th>Third_Choice</th>\n",
       "      <th>Teammates</th>\n",
       "      <th>Github</th>\n",
       "    </tr>\n",
       "  </thead>\n",
       "  <tbody>\n",
       "    <tr>\n",
       "      <th>0</th>\n",
       "      <td>02/01/2023 14:53:21</td>\n",
       "      <td>0</td>\n",
       "      <td>3</td>\n",
       "      <td>4</td>\n",
       "      <td>2</td>\n",
       "      <td>0</td>\n",
       "      <td>5</td>\n",
       "      <td>1</td>\n",
       "      <td>0</td>\n",
       "    </tr>\n",
       "    <tr>\n",
       "      <th>1</th>\n",
       "      <td>03/01/2023 09:57:23</td>\n",
       "      <td>1</td>\n",
       "      <td>3</td>\n",
       "      <td>4</td>\n",
       "      <td>4</td>\n",
       "      <td>4</td>\n",
       "      <td>1</td>\n",
       "      <td>NaN</td>\n",
       "      <td>0</td>\n",
       "    </tr>\n",
       "    <tr>\n",
       "      <th>2</th>\n",
       "      <td>03/01/2023 11:11:46</td>\n",
       "      <td>2</td>\n",
       "      <td>2</td>\n",
       "      <td>2</td>\n",
       "      <td>1</td>\n",
       "      <td>2</td>\n",
       "      <td>5</td>\n",
       "      <td>NaN</td>\n",
       "      <td>0</td>\n",
       "    </tr>\n",
       "    <tr>\n",
       "      <th>3</th>\n",
       "      <td>03/01/2023 11:53:12</td>\n",
       "      <td>3</td>\n",
       "      <td>3</td>\n",
       "      <td>4</td>\n",
       "      <td>4</td>\n",
       "      <td>2</td>\n",
       "      <td>5</td>\n",
       "      <td>NaN</td>\n",
       "      <td>3</td>\n",
       "    </tr>\n",
       "    <tr>\n",
       "      <th>4</th>\n",
       "      <td>04/01/2023 11:24:51</td>\n",
       "      <td>4</td>\n",
       "      <td>3</td>\n",
       "      <td>4</td>\n",
       "      <td>5</td>\n",
       "      <td>3</td>\n",
       "      <td>4</td>\n",
       "      <td>NaN</td>\n",
       "      <td>1</td>\n",
       "    </tr>\n",
       "    <tr>\n",
       "      <th>5</th>\n",
       "      <td>04/01/2023 13:56:21</td>\n",
       "      <td>5</td>\n",
       "      <td>2</td>\n",
       "      <td>3</td>\n",
       "      <td>4</td>\n",
       "      <td>2</td>\n",
       "      <td>5</td>\n",
       "      <td>NaN</td>\n",
       "      <td>1</td>\n",
       "    </tr>\n",
       "    <tr>\n",
       "      <th>6</th>\n",
       "      <td>04/01/2023 15:38:00</td>\n",
       "      <td>6</td>\n",
       "      <td>3</td>\n",
       "      <td>4</td>\n",
       "      <td>5</td>\n",
       "      <td>4</td>\n",
       "      <td>4</td>\n",
       "      <td>4 and 9</td>\n",
       "      <td>0</td>\n",
       "    </tr>\n",
       "    <tr>\n",
       "      <th>7</th>\n",
       "      <td>05/01/2023 01:10:24</td>\n",
       "      <td>7</td>\n",
       "      <td>4</td>\n",
       "      <td>2</td>\n",
       "      <td>1</td>\n",
       "      <td>2</td>\n",
       "      <td>2</td>\n",
       "      <td>NaN</td>\n",
       "      <td>1</td>\n",
       "    </tr>\n",
       "    <tr>\n",
       "      <th>8</th>\n",
       "      <td>05/01/2023 09:39:14</td>\n",
       "      <td>8</td>\n",
       "      <td>1</td>\n",
       "      <td>3</td>\n",
       "      <td>5</td>\n",
       "      <td>2</td>\n",
       "      <td>3</td>\n",
       "      <td>NaN</td>\n",
       "      <td>3</td>\n",
       "    </tr>\n",
       "    <tr>\n",
       "      <th>9</th>\n",
       "      <td>06/01/2023 09:01:35</td>\n",
       "      <td>9</td>\n",
       "      <td>4</td>\n",
       "      <td>5</td>\n",
       "      <td>3</td>\n",
       "      <td>5</td>\n",
       "      <td>5</td>\n",
       "      <td>NaN</td>\n",
       "      <td>2</td>\n",
       "    </tr>\n",
       "  </tbody>\n",
       "</table>\n",
       "</div>"
      ],
      "text/plain": [
       "            Horodateur  Prénom  First_Choice  Reason1  Second_Choice  Reason2  \\\n",
       "0  02/01/2023 14:53:21       0             3        4              2        0   \n",
       "1  03/01/2023 09:57:23       1             3        4              4        4   \n",
       "2  03/01/2023 11:11:46       2             2        2              1        2   \n",
       "3  03/01/2023 11:53:12       3             3        4              4        2   \n",
       "4  04/01/2023 11:24:51       4             3        4              5        3   \n",
       "5  04/01/2023 13:56:21       5             2        3              4        2   \n",
       "6  04/01/2023 15:38:00       6             3        4              5        4   \n",
       "7  05/01/2023 01:10:24       7             4        2              1        2   \n",
       "8  05/01/2023 09:39:14       8             1        3              5        2   \n",
       "9  06/01/2023 09:01:35       9             4        5              3        5   \n",
       "\n",
       "   Third_Choice Teammates  Github  \n",
       "0             5         1       0  \n",
       "1             1       NaN       0  \n",
       "2             5       NaN       0  \n",
       "3             5       NaN       3  \n",
       "4             4       NaN       1  \n",
       "5             5       NaN       1  \n",
       "6             4   4 and 9       0  \n",
       "7             2       NaN       1  \n",
       "8             3       NaN       3  \n",
       "9             5       NaN       2  "
      ]
     },
     "execution_count": 22,
     "metadata": {},
     "output_type": "execute_result"
    }
   ],
   "source": [
    "df"
   ]
  },
  {
   "cell_type": "code",
   "execution_count": 2,
   "id": "c3182567",
   "metadata": {},
   "outputs": [],
   "source": [
    "candidate_vows ={ candidate :  [df.loc[candidate,'First_Choice'],df.loc[candidate,'Second_Choice'],df.loc[candidate,'Third_Choice']]   for candidate in df.index}"
   ]
  },
  {
   "cell_type": "code",
   "execution_count": 3,
   "id": "d6634f9c",
   "metadata": {},
   "outputs": [
    {
     "data": {
      "text/plain": [
       "{1: [3, 8, 5, 7, 9, 2, 6, 0, 4, 1],\n",
       " 2: [0, 6, 2, 1, 3, 7, 8, 4, 5, 9],\n",
       " 3: [3, 2, 0, 6, 5, 8, 7, 1, 9, 4],\n",
       " 4: [6, 4, 2, 0, 1, 5, 8, 3, 7, 9],\n",
       " 5: [8, 1, 9, 5, 6, 2, 0, 7, 3, 4]}"
      ]
     },
     "execution_count": 3,
     "metadata": {},
     "output_type": "execute_result"
    }
   ],
   "source": [
    "projet_vows = {i : list(np.arange(0,10)) for i in range(1,6)}\n",
    "\n",
    "[np.random.shuffle(v) for k,v in projet_vows.items()]\n",
    "projet_vows"
   ]
  },
  {
   "cell_type": "code",
   "execution_count": 4,
   "id": "4822aace",
   "metadata": {},
   "outputs": [
    {
     "data": {
      "text/plain": [
       "{0: [3, 2, 5],\n",
       " 1: [3, 4, 1],\n",
       " 2: [2, 1, 5],\n",
       " 3: [3, 4, 5],\n",
       " 4: [3, 5, 4],\n",
       " 5: [2, 4, 5],\n",
       " 6: [3, 5, 4],\n",
       " 7: [4, 1, 2],\n",
       " 8: [1, 5, 3],\n",
       " 9: [4, 3, 5]}"
      ]
     },
     "execution_count": 4,
     "metadata": {},
     "output_type": "execute_result"
    }
   ],
   "source": [
    "candidate_vows "
   ]
  },
  {
   "cell_type": "code",
   "execution_count": 55,
   "id": "a39ce09f",
   "metadata": {},
   "outputs": [
    {
     "data": {
      "text/plain": [
       "0"
      ]
     },
     "execution_count": 55,
     "metadata": {},
     "output_type": "execute_result"
    }
   ],
   "source": [
    "\n",
    "[value for value in candidate_vows[1] if value in [3,5,4]]\n",
    "\n",
    "candidate_vows[1].index(3)"
   ]
  },
  {
   "cell_type": "code",
   "execution_count": null,
   "id": "8aef028a",
   "metadata": {},
   "outputs": [],
   "source": [
    "projet_vows[5].index(5)"
   ]
  },
  {
   "cell_type": "code",
   "execution_count": 44,
   "id": "c406d80e",
   "metadata": {},
   "outputs": [
    {
     "data": {
      "text/plain": [
       "[1, 2, 3, 4, 5]"
      ]
     },
     "execution_count": 44,
     "metadata": {},
     "output_type": "execute_result"
    }
   ],
   "source": [
    "list(projet_vows.keys())"
   ]
  },
  {
   "cell_type": "code",
   "execution_count": 30,
   "id": "c81ab8c0",
   "metadata": {},
   "outputs": [
    {
     "data": {
      "text/plain": [
       "array([], shape=(0, 1, 2, 3, 4, 5, 6, 7, 8, 9), dtype=float64)"
      ]
     },
     "execution_count": 30,
     "metadata": {},
     "output_type": "execute_result"
    }
   ],
   "source": [
    "np.random.sample(np.arange(0,10))  "
   ]
  },
  {
   "cell_type": "code",
   "execution_count": 5,
   "id": "7e4da10d",
   "metadata": {},
   "outputs": [],
   "source": [
    "def gale_shapley(candidate_vows:dict,projects_vows:dict)->dict:\n",
    "    \"\"\"\n",
    "    A simple implementation of the gale-Shapley Algorithm\n",
    "    \"\"\"\n",
    "    waiting_list = []\n",
    "    matchings= {}\n",
    "    projects_available = {candidate:projects_vows.keys() for candidate in candidate_vows.keys()}\n",
    "    while len(waiting_list)<len(candidate_vows.keys()) :\n",
    "        for candidate in list(candidate_vows.keys()):\n",
    "            if candidate not in waiting_list:\n",
    "                #filtering only available projects among the candidates'vows and select the first one\n",
    "                available_vows =[proj for proj in candidate_vows[candidate] if proj in projects_available[candidate]]\n",
    "                \n",
    "                if len(available_vows)>0:\n",
    "                    best_choice= available_vows[0]\n",
    "                    #Recording the position of the best available vows among the candidates'vows\n",
    "                #as well as the position of the proposed candidate among the best project's vows\n",
    "                    matchings[(candidate, best_choice)]= (candidate_vows[candidate].index(best_choice),\n",
    "                    projects_vows[best_choice].index(candidate))\n",
    "        # if a project have more than one proposals \n",
    "        # it will choose the best option\n",
    "        overlays = Counter([key[1] for key in matchings.keys()])\n",
    "        for proj in overlays.keys():\n",
    "            if overlays[proj]>1:\n",
    "                # pairs to drop from proposals\n",
    "                pairs_to_drop = sorted({pair: matchings[pair] for pair in matchings.keys() \n",
    "                if proj in pair}.items(), \n",
    "                   key=lambda x: x[1][1]\n",
    "                  )[1:]\n",
    "            # if man was rejected by woman\n",
    "            # there is no pint for him to make proposal \n",
    "            # second time to the same woman\n",
    "                for p_to_drop in pairs_to_drop:\n",
    "                    del matchings[p_to_drop[0]]\n",
    "                    _proj = copy(list(projects_available[p_to_drop[0][0]]))\n",
    "                    _proj.remove(p_to_drop[0][1])\n",
    "                    projects_available[p_to_drop[0][0]] = _proj\n",
    "        # candidate who successfully created pairs must be added to the waiting list \n",
    "        waiting_list = [candidate[0] for candidate in matchings.keys()]   \n",
    "        print(\"waiting_list=\",waiting_list)\n",
    "    return(matchings)\n",
    "                "
   ]
  },
  {
   "cell_type": "code",
   "execution_count": 6,
   "id": "b38d971d",
   "metadata": {},
   "outputs": [
    {
     "name": "stdout",
     "output_type": "stream",
     "text": [
      "waiting_list= [2]\n",
      "waiting_list= [2, 0, 1]\n"
     ]
    },
    {
     "data": {
      "text/plain": [
       "{(2, 1): (0, 0), (0, 2): (1, 1), (1, 0): (1, 0)}"
      ]
     },
     "execution_count": 6,
     "metadata": {},
     "output_type": "execute_result"
    }
   ],
   "source": [
    "gale_shapley({0:[1,2,0],1:[2,0,1],2:[1,0,2]},{1:[2,1,0],0:[1,2,0],2:[2,0,1]})"
   ]
  },
  {
   "cell_type": "code",
   "execution_count": 43,
   "id": "243527fe",
   "metadata": {},
   "outputs": [
    {
     "data": {
      "text/plain": [
       "{'Binance': ['E', 'D', 'B', 'A'],\n",
       " 'NY News': ['F', 'C'],\n",
       " 'Satisfaction': ['G'],\n",
       " 'Itineraire': ['H', 'J'],\n",
       " 'DST': ['I']}"
      ]
     },
     "execution_count": 43,
     "metadata": {},
     "output_type": "execute_result"
    }
   ],
   "source": [
    "def remove_student_from_waiting_list(applicant,waiting_list):\n",
    "    \"\"\"\n",
    "    Creating a new list of the waiting_list's keys without the key applicant\n",
    "    \"\"\"\n",
    "    return [x for x in waiting_list if x != applicant]\n",
    "\n",
    "\n",
    "def update_matchings(student, choice,matchings,rankings):\n",
    "    \"\"\"\n",
    "    Update the allocation of the project choice by adding applicant to it and then sort it according to\n",
    "    the project's vows (contained in rankings)\n",
    "    \"\"\"\n",
    "    matchings[choice].append(student)\n",
    "    #Selecting the students according to the project's ranking order if they are currently match with this project\n",
    "    return [x for x in rankings[choice] if x in matchings[choice]]\n",
    "\n",
    "def stable_matching_algorithm_unbalanced_class(students, rankings, places):\n",
    "    #initially all the students are waiting to be assign to a project\n",
    "    waiting_list = [applicants for applicants in students]\n",
    "    #initially all the projects are empty\n",
    "    matchings = {choice: [] for choice in places}\n",
    "\n",
    "    while waiting_list:\n",
    "        for applicant in waiting_list.copy():\n",
    "            if not students[applicant]:\n",
    "                waiting_list = remove_student_from_waiting_list(applicant,waiting_applicants)\n",
    "                continue\n",
    "            #each student propose to his first vow\n",
    "            choice = students[applicant].pop(0)\n",
    "            #If the project chosen by the student still has some available places :\n",
    "            if len(matchings[choice]) < places[choice]:\n",
    "                matchings[choice] = update_matchings(applicant, choice,matchings,rankings)\n",
    "                waiting_list = remove_student_from_waiting_list(applicant,waiting_list)\n",
    "            #If not we check if the project prefers the student to its current last member and \n",
    "            # update the attributions according to the project's vows\n",
    "            else:\n",
    "                if rankings[choice].index(applicant) < rankings[choice].index(matchings[choice][-1]):\n",
    "                    matchings[choice] = update_matchings(applicant, choice,matchings,rankings)\n",
    "                    waiting_list = remove_student_from_waiting_list(applicant,waiting_list)\n",
    "                    waiting_list.append(matchings[choice].pop())\n",
    "\n",
    "    return matchings\n"
   ]
  },
  {
   "cell_type": "code",
   "execution_count": 50,
   "id": "fb2ac993",
   "metadata": {},
   "outputs": [
    {
     "data": {
      "text/plain": [
       "['A', 'B', 'D', 'E']"
      ]
     },
     "execution_count": 50,
     "metadata": {},
     "output_type": "execute_result"
    }
   ],
   "source": [
    "#some tests\n",
    "s = {\n",
    "    'A': ['C', 'D', 'E'],\n",
    "    'B': ['C', 'D', 'E'],\n",
    "    'C': ['D', 'C', 'E'],\n",
    "    'D': ['D', 'E', 'C'],\n",
    "    'E': ['E', 'D', 'C'],\n",
    "    'F': ['E', 'C', 'D']\n",
    "}\n",
    "\n",
    "o = {\n",
    "    'D': ['C', 'E', 'D', 'B', 'F', 'A'],\n",
    "    'E': ['B', 'F', 'A', 'E', 'D', 'C'],\n",
    "    'C': ['A', 'B', 'C', 'D', 'E', 'F']\n",
    "}\n",
    "\n",
    "p = {\n",
    "    'D': 2,\n",
    "    'E': 2,\n",
    "    'C': 1\n",
    "}\n",
    "\n",
    "remove_student_from_waiting_list('D',s)\n",
    "update_matchings('D','E', {'C': ['E', 'D', 'B', 'A'], 'B': ['F', 'C'], 'E': []},\n",
    "                                o)\n",
    "update_matchings('D','C', {'C': ['E', 'D', 'B', 'A'], 'B': ['F', 'C'], 'E': []},\n",
    "                                o)"
   ]
  },
  {
   "cell_type": "code",
   "execution_count": 51,
   "id": "41b0c8a8",
   "metadata": {},
   "outputs": [
    {
     "data": {
      "text/plain": [
       "{'Binance': ['E', 'D', 'B', 'A'],\n",
       " 'NY News': ['F', 'C'],\n",
       " 'Satisfaction': ['G'],\n",
       " 'Itinerary': ['H', 'J'],\n",
       " 'Airlines': ['I']}"
      ]
     },
     "execution_count": 51,
     "metadata": {},
     "output_type": "execute_result"
    }
   ],
   "source": [
    "#Final Results\n",
    "#lists of students' vows\n",
    "s = {\n",
    "    'A': ['Binance', 'NY News','Satisfaction'],\n",
    "    'B': ['Binance', 'Itinerary','Airlines'],\n",
    "    'C': ['NY News', 'Airlines','Satisfaction',],\n",
    "    'D': ['Binance', 'Itinerary', 'Satisfaction'],\n",
    "    'E': ['Binance', 'Satisfaction','Itinerary'],\n",
    "    'F': ['NY News', 'Itinerary', 'Satisfaction'],\n",
    "    'G': ['Binance', 'Satisfaction', 'Itinerary'],\n",
    "    'H': ['Itinerary','Airlines','NY News'],\n",
    "    'I': ['Airlines','Satisfaction','Binance'],\n",
    "    'J': ['Itinerary','Binance','Satisfaction'],\n",
    "   \n",
    "}\n",
    "#list of projects preference\n",
    "pref = {\n",
    "    'Binance': ['C', 'E', 'D', 'B', 'F', 'A','H','G','J','I'],\n",
    "    'NY News': ['J','H','B', 'G','F', 'A', 'I','E', 'D', 'C'],\n",
    "    'Itinerary': ['I','A', 'B', 'C','H', 'J','D', 'E', 'F','G'],\n",
    "     'Satisfaction': ['H','I','G','A', 'C', 'F', 'D', 'E', 'B','J'],\n",
    "     'Airlines': ['A','J', 'B','I', 'C','H' ,'D', 'E','G' ,'F']\n",
    "}\n",
    "#list of available_place\n",
    "places = {\n",
    "    'Binance': 4,\n",
    "    'NY News': 2,\n",
    "    'Satisfaction': 2,\n",
    "    'Itinerary': 3,\n",
    "    'Airlines': 3\n",
    "}\n",
    "stable_matching_algorithm_unbalanced_class(s,pref,places)"
   ]
  }
 ],
 "metadata": {
  "kernelspec": {
   "display_name": "Python 3 (ipykernel)",
   "language": "python",
   "name": "python3"
  },
  "language_info": {
   "codemirror_mode": {
    "name": "ipython",
    "version": 3
   },
   "file_extension": ".py",
   "mimetype": "text/x-python",
   "name": "python",
   "nbconvert_exporter": "python",
   "pygments_lexer": "ipython3",
   "version": "3.9.13"
  }
 },
 "nbformat": 4,
 "nbformat_minor": 5
}
