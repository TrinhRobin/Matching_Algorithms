{
 "cells": [
  {
   "cell_type": "code",
   "execution_count": null,
   "id": "78858a59",
   "metadata": {},
   "outputs": [],
   "source": [
    "df.columns"
   ]
  },
  {
   "cell_type": "code",
   "execution_count": null,
   "id": "2eac2df7",
   "metadata": {
    "scrolled": true
   },
   "outputs": [],
   "source": [
    "df_clean =df.drop_duplicates(subset=['Nom','Prénom'],keep='last')\n",
    "df_clean.columns = ['Horodateur', 'Nom', 'Prénom', 'Adresse_Mail','Choix1','Raison_Choix1','Choix2','Raison_Choix2',\n",
    "                   'Choix3','Equipe','OS','Memoire','Github','Last']"
   ]
  },
  {
   "cell_type": "code",
   "execution_count": null,
   "id": "c6711cf7",
   "metadata": {
    "scrolled": true
   },
   "outputs": [],
   "source": [
    "s= {\n",
    "     df_clean.loc[i,\"Nom\"]+'_'+df_clean.loc[i,\"Prénom\"]: [df_clean.loc[i,f'Choix{j}'] for j in range(1,4) ] for i in df_clean.index\n",
    "}\n",
    "s"
   ]
  },
  {
   "cell_type": "code",
   "execution_count": null,
   "id": "ed38c244",
   "metadata": {},
   "outputs": [],
   "source": [
    "import random\n"
   ]
  },
  {
   "cell_type": "code",
   "execution_count": null,
   "id": "7aec79ba",
   "metadata": {},
   "outputs": [],
   "source": [
    "def fill_all_student_projects(list_students_projects,\n",
    "                              list_all_students,\n",
    "                              method_ranking ):\n",
    "    student_queue = sorted([y for y in list_all_students if y not in list_students_projects], key=lambda k: method_ranking(k))\n",
    "    return(list_students_projects+student_queue)\n",
    "    \n",
    "def projects_ranking(df, list_mails=[], list_projects=df_clean[\"Choix1\"].unique(),\n",
    "                     method_class1=len,method_class2= lambda x : random.random()):\n",
    "   \n",
    "    df_clean =df.drop_duplicates(subset=['Nom','Prénom'],keep='last')\n",
    "    df_clean =  df_clean.dropna()\n",
    "    df_clean.columns = ['Horodateur', 'Nom', 'Prénom', 'Adresse_Mail','Choix1','Raison_Choix1','Choix2','Raison_Choix2',\n",
    "                   'Choix3','Equipe','OS','Memoire','Github','Last']\n",
    "    #filtre adresse mail\n",
    "    if list_mails: \n",
    "        print(\"Filtre activé\")\n",
    "        df_clean[df_clean['Adresse_Mail'].isin(list_mails)]\n",
    "    #A mettre en paramètre ? avec webscrapping\n",
    "    list_all_students  = set([ x[0] +\"_\"+x[1] for x in df_clean.loc[:,[\"Nom\",\"Prénom\"]].values])\n",
    "    df_clean['score1']=df_clean[\"Raison_Choix1\"].apply(lambda x : method_class1(x))\n",
    "    df_clean['score2']=df_clean[\"Raison_Choix2\"].apply(lambda x : method_class1(x))\n",
    "    \n",
    "    \n",
    "    vows_projects = {project :[ x[0]+'_'+x[1] \n",
    "          for x in df_clean.loc[df_clean[\"Choix1\"]==project,].sort_values(by='score1',ascending=False).loc[:,[\"Nom\",\"Prénom\"]].values]+\n",
    "                     [ x[0]+'_'+x[1] \n",
    "          for x in df_clean.loc[df_clean[\"Choix2\"]==project,].sort_values(by='score2',ascending=False).loc[:,[\"Nom\",\"Prénom\"]].values] \n",
    "      \n",
    "for project in  list_projects}\n",
    "    return({ project : fill_all_student_projects(vows_projects[project], list_all_students,method_class2) for project in vows_projects})\n",
    "    \n",
    "    #on complete les classements de chaque projet pour avoir un classement complet\n",
    "    \n",
    "   "
   ]
  },
  {
   "cell_type": "code",
   "execution_count": null,
   "id": "faa27076",
   "metadata": {},
   "outputs": [],
   "source": [
    "def remove_student_from_waiting_list(applicant,waiting_list):\n",
    "    \"\"\"\n",
    "    Creating a new list of the waiting_list's keys without the key applicant\n",
    "    \"\"\"\n",
    "    return [x for x in waiting_list if x != applicant]\n",
    "\n",
    "\n",
    "def update_matchings(student, choice,matchings,rankings):\n",
    "    \"\"\"\n",
    "    Update the allocation of the project choice by adding applicant to it and then sort it according to\n",
    "    the project's vows (contained in rankings)\n",
    "    \"\"\"\n",
    "    matchings[choice].append(student)\n",
    "    #Selecting the students according to the project's ranking order if they are currently match with this project\n",
    "    return [x for x in rankings[choice] if x in matchings[choice]]\n",
    "\n",
    "def stable_matching_algorithm_unbalanced_class(students, rankings, places):\n",
    "    #initially all the students are waiting to be assign to a project\n",
    "    waiting_list = [applicants for applicants in students]\n",
    "    #initially all the projects are empty\n",
    "    matchings = {choice: [] for choice in places}\n",
    "\n",
    "    while waiting_list:\n",
    "        for applicant in waiting_list.copy():\n",
    "            if not students[applicant]:\n",
    "                waiting_list = remove_student_from_waiting_list(applicant,waiting_applicants)\n",
    "                continue\n",
    "            #each student propose to his first vow\n",
    "            choice = students[applicant].pop(0)\n",
    "            #If the project chosen by the student still has some available places :\n",
    "            if len(matchings[choice]) < places[choice]:\n",
    "                matchings[choice] = update_matchings(applicant, choice,matchings,rankings)\n",
    "                waiting_list = remove_student_from_waiting_list(applicant,waiting_list)\n",
    "            #If not we check if the project prefers the student to its current last member and \n",
    "            # update the attributions according to the project's vows\n",
    "            else:\n",
    "                if rankings[choice].index(applicant) < rankings[choice].index(matchings[choice][-1]):\n",
    "                    matchings[choice] = update_matchings(applicant, choice,matchings,rankings)\n",
    "                    waiting_list = remove_student_from_waiting_list(applicant,waiting_list)\n",
    "                    waiting_list.append(matchings[choice].pop())\n",
    "\n",
    "    return matchings"
   ]
  },
  {
   "cell_type": "code",
   "execution_count": null,
   "id": "7687e4ab",
   "metadata": {},
   "outputs": [],
   "source": [
    "\n",
    "places ={'3 - OPA': 8,\n",
    " '1 - DST Airlines': 6,\n",
    " '2 - NY News': 7,\n",
    " '4 - Itinéraire de vacances': 5,\n",
    " '5 - Satisfaction client': 10}\n",
    "stable_matching_algorithm_unbalanced_class(s,vows_projects,places)"
   ]
  },
  {
   "cell_type": "code",
   "execution_count": null,
   "id": "b07a9f01",
   "metadata": {},
   "outputs": [],
   "source": [
    "#To do : API google cloud pour recuperer csv\n",
    "#calculer score choix 1,2 ,3 pour optimiser satisfaction\n",
    "# Interface streamlit/airflow\n",
    "# webscrapper nom users promos beta "
   ]
  }
 ],
 "metadata": {
  "kernelspec": {
   "display_name": "Python 3 (ipykernel)",
   "language": "python",
   "name": "python3"
  },
  "language_info": {
   "codemirror_mode": {
    "name": "ipython",
    "version": 3
   },
   "file_extension": ".py",
   "mimetype": "text/x-python",
   "name": "python",
   "nbconvert_exporter": "python",
   "pygments_lexer": "ipython3",
   "version": "3.9.12"
  }
 },
 "nbformat": 4,
 "nbformat_minor": 5
}
